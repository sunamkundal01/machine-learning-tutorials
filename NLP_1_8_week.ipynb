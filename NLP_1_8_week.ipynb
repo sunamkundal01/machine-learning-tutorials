{
  "nbformat": 4,
  "nbformat_minor": 0,
  "metadata": {
    "colab": {
      "provenance": [],
      "authorship_tag": "ABX9TyNBgCcbsG83/NlSa9OmB/Wp",
      "include_colab_link": true
    },
    "kernelspec": {
      "name": "python3",
      "display_name": "Python 3"
    },
    "language_info": {
      "name": "python"
    }
  },
  "cells": [
    {
      "cell_type": "markdown",
      "metadata": {
        "id": "view-in-github",
        "colab_type": "text"
      },
      "source": [
        "<a href=\"https://colab.research.google.com/github/sunamkundal01/machine-learning-tutorials/blob/main/NLP_1_8_week.ipynb\" target=\"_parent\"><img src=\"https://colab.research.google.com/assets/colab-badge.svg\" alt=\"Open In Colab\"/></a>"
      ]
    },
    {
      "cell_type": "markdown",
      "source": [
        "#TASK 01\n",
        "##Implementation of  tokenistation,stemming and stop-word removal using python from scratch."
      ],
      "metadata": {
        "id": "80XwXx7puzHE"
      }
    },
    {
      "cell_type": "markdown",
      "source": [
        "using regular expressions"
      ],
      "metadata": {
        "id": "z770b__aw5LW"
      }
    },
    {
      "cell_type": "code",
      "execution_count": 2,
      "metadata": {
        "id": "QSjzcTpAuwQa"
      },
      "outputs": [],
      "source": [
        "#importing header file\n",
        "import re"
      ]
    },
    {
      "cell_type": "markdown",
      "source": [
        "# Tokenization (Word Tokenizer)"
      ],
      "metadata": {
        "id": "3oQxyXI2vOQK"
      }
    },
    {
      "cell_type": "code",
      "source": [
        "\n",
        "def tokenize(text):\n",
        "    # Split text by whitespace and remove punctuation using regex\n",
        "    tokens = re.findall(r'\\b\\w+\\b', text.lower())\n",
        "    return tokens"
      ],
      "metadata": {
        "id": "JUhpmjP6vNCM"
      },
      "execution_count": 3,
      "outputs": []
    },
    {
      "cell_type": "markdown",
      "source": [
        "# Stemming"
      ],
      "metadata": {
        "id": "cD80BsrQvXXS"
      }
    },
    {
      "cell_type": "code",
      "source": [
        "\n",
        "def stem(word):\n",
        "    # Simple stemming rules (removes common suffixes like -ing, -ly, -ed, etc.)\n",
        "    suffixes = ['ing', 'ly', 'ed', 'ious', 'ies', 'ive', 'es', 's', 'ment']\n",
        "    for suffix in suffixes:\n",
        "        if word.endswith(suffix):\n",
        "            return word[: -len(suffix)]\n",
        "    return word"
      ],
      "metadata": {
        "id": "JZLVMF00vUXO"
      },
      "execution_count": 4,
      "outputs": []
    },
    {
      "cell_type": "markdown",
      "source": [
        "#Stop-Word Removal"
      ],
      "metadata": {
        "id": "VZ5J6jb4vfw_"
      }
    },
    {
      "cell_type": "code",
      "source": [
        "\n",
        "def remove_stopwords(tokens):\n",
        "    # Example stop words (expand as needed)\n",
        "    stop_words = {'is', 'and', 'i', 'in', 'the', 'on', 'at', 'a', 'an'}\n",
        "    return [token for token in tokens if token not in stop_words]"
      ],
      "metadata": {
        "id": "f7jD1exmvdg4"
      },
      "execution_count": 5,
      "outputs": []
    },
    {
      "cell_type": "markdown",
      "source": [
        "#Complete Pipeline for processing data"
      ],
      "metadata": {
        "id": "wC9gcMvyvqh3"
      }
    },
    {
      "cell_type": "code",
      "source": [
        "\n",
        "def process_text(text):\n",
        "    # Step 1: Tokenize\n",
        "    tokens = tokenize(text)\n",
        "    print(\"Tokens:\", tokens)\n",
        "\n",
        "    # Step 2: Remove Stop Words\n",
        "    tokens_no_stopwords = remove_stopwords(tokens)\n",
        "    print(\"Tokens after stop-word removal:\", tokens_no_stopwords)\n",
        "\n",
        "    # Step 3: Stem Tokens\n",
        "    stemmed_tokens = [stem(token) for token in tokens_no_stopwords]\n",
        "    print(\"Stemmed Tokens:\", stemmed_tokens)\n",
        "\n",
        "    return stemmed_tokens"
      ],
      "metadata": {
        "id": "zKDimW-CvltM"
      },
      "execution_count": 6,
      "outputs": []
    },
    {
      "cell_type": "markdown",
      "source": [
        "# Run the pipeline for all"
      ],
      "metadata": {
        "id": "2ywRYZiCv4c6"
      }
    },
    {
      "cell_type": "code",
      "source": [
        "\n",
        "# Sample text\n",
        "text = \"Running is fun, and I enjoy playing outside in the evenings!\"\n",
        "processed_tokens = process_text(text)\n",
        "print(\"Processed Tokens:\", processed_tokens)"
      ],
      "metadata": {
        "colab": {
          "base_uri": "https://localhost:8080/"
        },
        "id": "woDPd6gCv3Bu",
        "outputId": "c01017dd-a898-4b0e-f0b8-2d08d4ae64b2"
      },
      "execution_count": 7,
      "outputs": [
        {
          "output_type": "stream",
          "name": "stdout",
          "text": [
            "Tokens: ['running', 'is', 'fun', 'and', 'i', 'enjoy', 'playing', 'outside', 'in', 'the', 'evenings']\n",
            "Tokens after stop-word removal: ['running', 'fun', 'enjoy', 'playing', 'outside', 'evenings']\n",
            "Stemmed Tokens: ['runn', 'fun', 'enjoy', 'play', 'outside', 'evening']\n",
            "Processed Tokens: ['runn', 'fun', 'enjoy', 'play', 'outside', 'evening']\n"
          ]
        }
      ]
    },
    {
      "cell_type": "markdown",
      "source": [
        "#Run the pipeline for all --> Input from user\n",
        "\n",
        "\n",
        "\n"
      ],
      "metadata": {
        "id": "W8YlR6WIwnws"
      }
    },
    {
      "cell_type": "code",
      "source": [
        "text = input(\"enter the text :\")\n",
        "print(\"data after performing tokenisation,stemming and removal of stop words:\")\n",
        "processed_tokens = process_text(text)\n",
        "print(\"Processed Tokens:\", processed_tokens)"
      ],
      "metadata": {
        "colab": {
          "base_uri": "https://localhost:8080/"
        },
        "id": "noJHRXIJwFsz",
        "outputId": "54385ee1-b9e8-4972-9b35-4ac9b99a2bde"
      },
      "execution_count": 8,
      "outputs": [
        {
          "output_type": "stream",
          "name": "stdout",
          "text": [
            "enter the text :hello my name is sunam kundal. and i am currently AI/ML intern inn\n",
            "data after performing tokenisation,stemming and removal of stop words:\n",
            "Tokens: ['hello', 'my', 'name', 'is', 'sunam', 'kundal', 'and', 'i', 'am', 'currently', 'ai', 'ml', 'intern', 'inn']\n",
            "Tokens after stop-word removal: ['hello', 'my', 'name', 'sunam', 'kundal', 'am', 'currently', 'ai', 'ml', 'intern', 'inn']\n",
            "Stemmed Tokens: ['hello', 'my', 'name', 'sunam', 'kundal', 'am', 'current', 'ai', 'ml', 'intern', 'inn']\n",
            "Processed Tokens: ['hello', 'my', 'name', 'sunam', 'kundal', 'am', 'current', 'ai', 'ml', 'intern', 'inn']\n"
          ]
        }
      ]
    },
    {
      "cell_type": "code",
      "source": [],
      "metadata": {
        "id": "wziYF84TxMTu"
      },
      "execution_count": null,
      "outputs": []
    }
  ]
}